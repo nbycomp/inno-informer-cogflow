{
 "cells": [
  {
   "cell_type": "code",
   "execution_count": 1,
   "id": "084aa0fd-a6fd-41fb-b94c-23c1089fceb4",
   "metadata": {
    "tags": []
   },
   "outputs": [
    {
     "name": "stdout",
     "output_type": "stream",
     "text": [
      "Processing ./cogflow-1.9.39b8-py3-none-any.whl\n",
      "Collecting mlflow==2.1.1 (from cogflow==1.9.39b8)\n",
      "  Using cached mlflow-2.1.1-py3-none-any.whl.metadata (11 kB)\n",
      "Requirement already satisfied: kfp==1.8.22 in /opt/conda/lib/python3.11/site-packages (from cogflow==1.9.39b8) (1.8.22)\n",
      "Requirement already satisfied: boto3 in /opt/conda/lib/python3.11/site-packages (from cogflow==1.9.39b8) (1.34.73)\n",
      "Requirement already satisfied: tenacity in /opt/conda/lib/python3.11/site-packages (from cogflow==1.9.39b8) (8.2.3)\n",
      "Requirement already satisfied: pandas in /opt/conda/lib/python3.11/site-packages (from cogflow==1.9.39b8) (2.0.3)\n",
      "Collecting numpy==1.24.4 (from cogflow==1.9.39b8)\n",
      "  Using cached numpy-1.24.4-cp311-cp311-manylinux_2_17_x86_64.manylinux2014_x86_64.whl.metadata (5.6 kB)\n",
      "Requirement already satisfied: kubernetes in /opt/conda/lib/python3.11/site-packages (from cogflow==1.9.39b8) (25.3.0)\n",
      "Requirement already satisfied: minio in /opt/conda/lib/python3.11/site-packages (from cogflow==1.9.39b8) (7.2.5)\n",
      "Collecting scikit-learn==1.2.0 (from cogflow==1.9.39b8)\n",
      "  Using cached scikit_learn-1.2.0-cp311-cp311-manylinux_2_17_x86_64.manylinux2014_x86_64.whl.metadata (11 kB)\n",
      "Requirement already satisfied: awscli in /opt/conda/lib/python3.11/site-packages (from cogflow==1.9.39b8) (1.32.73)\n",
      "Requirement already satisfied: s3fs in /opt/conda/lib/python3.11/site-packages (from cogflow==1.9.39b8) (0.4.2)\n",
      "Requirement already satisfied: setuptools in /opt/conda/lib/python3.11/site-packages (from cogflow==1.9.39b8) (69.0.3)\n",
      "Requirement already satisfied: kserve==0.12.0 in /opt/conda/lib/python3.11/site-packages (from cogflow==1.9.39b8) (0.12.0)\n",
      "Requirement already satisfied: tensorflow in /opt/conda/lib/python3.11/site-packages (from cogflow==1.9.39b8) (2.16.1)\n",
      "Requirement already satisfied: ray==2.9.3 in /opt/conda/lib/python3.11/site-packages (from cogflow==1.9.39b8) (2.9.3)\n",
      "Requirement already satisfied: absl-py<2,>=0.9 in /opt/conda/lib/python3.11/site-packages (from kfp==1.8.22->cogflow==1.9.39b8) (1.4.0)\n",
      "Requirement already satisfied: PyYAML<7,>=5.3 in /opt/conda/lib/python3.11/site-packages (from kfp==1.8.22->cogflow==1.9.39b8) (6.0.1)\n",
      "Requirement already satisfied: google-api-core!=2.0.*,!=2.1.*,!=2.2.*,!=2.3.0,<3.0.0dev,>=1.31.5 in /opt/conda/lib/python3.11/site-packages (from kfp==1.8.22->cogflow==1.9.39b8) (2.15.0)\n",
      "Requirement already satisfied: google-cloud-storage<3,>=1.20.0 in /opt/conda/lib/python3.11/site-packages (from kfp==1.8.22->cogflow==1.9.39b8) (2.14.0)\n",
      "Requirement already satisfied: google-api-python-client<2,>=1.7.8 in /opt/conda/lib/python3.11/site-packages (from kfp==1.8.22->cogflow==1.9.39b8) (1.12.11)\n",
      "Requirement already satisfied: google-auth<3,>=1.6.1 in /opt/conda/lib/python3.11/site-packages (from kfp==1.8.22->cogflow==1.9.39b8) (2.27.0)\n",
      "Requirement already satisfied: requests-toolbelt<1,>=0.8.0 in /opt/conda/lib/python3.11/site-packages (from kfp==1.8.22->cogflow==1.9.39b8) (0.10.1)\n",
      "Requirement already satisfied: cloudpickle<3,>=2.0.0 in /opt/conda/lib/python3.11/site-packages (from kfp==1.8.22->cogflow==1.9.39b8) (2.2.1)\n",
      "Requirement already satisfied: kfp-server-api<2.0.0,>=1.1.2 in /opt/conda/lib/python3.11/site-packages (from kfp==1.8.22->cogflow==1.9.39b8) (1.8.5)\n",
      "Requirement already satisfied: jsonschema<5,>=3.0.1 in /opt/conda/lib/python3.11/site-packages (from kfp==1.8.22->cogflow==1.9.39b8) (4.21.1)\n",
      "Requirement already satisfied: tabulate<1,>=0.8.6 in /opt/conda/lib/python3.11/site-packages (from kfp==1.8.22->cogflow==1.9.39b8) (0.9.0)\n",
      "Requirement already satisfied: click<9,>=7.1.2 in /opt/conda/lib/python3.11/site-packages (from kfp==1.8.22->cogflow==1.9.39b8) (8.1.7)\n",
      "Requirement already satisfied: Deprecated<2,>=1.2.7 in /opt/conda/lib/python3.11/site-packages (from kfp==1.8.22->cogflow==1.9.39b8) (1.2.14)\n",
      "Requirement already satisfied: strip-hints<1,>=0.1.8 in /opt/conda/lib/python3.11/site-packages (from kfp==1.8.22->cogflow==1.9.39b8) (0.1.10)\n",
      "Requirement already satisfied: docstring-parser<1,>=0.7.3 in /opt/conda/lib/python3.11/site-packages (from kfp==1.8.22->cogflow==1.9.39b8) (0.15)\n",
      "Requirement already satisfied: kfp-pipeline-spec<0.2.0,>=0.1.16 in /opt/conda/lib/python3.11/site-packages (from kfp==1.8.22->cogflow==1.9.39b8) (0.1.16)\n",
      "Requirement already satisfied: fire<1,>=0.3.1 in /opt/conda/lib/python3.11/site-packages (from kfp==1.8.22->cogflow==1.9.39b8) (0.6.0)\n",
      "Requirement already satisfied: protobuf<4,>=3.13.0 in /opt/conda/lib/python3.11/site-packages (from kfp==1.8.22->cogflow==1.9.39b8) (3.20.3)\n",
      "Requirement already satisfied: uritemplate<4,>=3.0.1 in /opt/conda/lib/python3.11/site-packages (from kfp==1.8.22->cogflow==1.9.39b8) (3.0.1)\n",
      "Requirement already satisfied: urllib3<2 in /opt/conda/lib/python3.11/site-packages (from kfp==1.8.22->cogflow==1.9.39b8) (1.26.18)\n",
      "Requirement already satisfied: pydantic<2,>=1.8.2 in /opt/conda/lib/python3.11/site-packages (from kfp==1.8.22->cogflow==1.9.39b8) (1.10.15)\n",
      "Requirement already satisfied: typer<1.0,>=0.3.2 in /opt/conda/lib/python3.11/site-packages (from kfp==1.8.22->cogflow==1.9.39b8) (0.12.3)\n",
      "Requirement already satisfied: async-timeout<5.0.0,>=4.0.3 in /opt/conda/lib/python3.11/site-packages (from kserve==0.12.0->cogflow==1.9.39b8) (4.0.3)\n",
      "Requirement already satisfied: cloudevents<2.0.0,>=1.6.2 in /opt/conda/lib/python3.11/site-packages (from kserve==0.12.0->cogflow==1.9.39b8) (1.10.1)\n",
      "Requirement already satisfied: fastapi<0.96.0,>=0.95.0 in /opt/conda/lib/python3.11/site-packages (from kserve==0.12.0->cogflow==1.9.39b8) (0.95.2)\n",
      "Requirement already satisfied: grpcio<2.0.0,>=1.49.1 in /opt/conda/lib/python3.11/site-packages (from kserve==0.12.0->cogflow==1.9.39b8) (1.63.0)\n",
      "Requirement already satisfied: httpx<0.27.0,>=0.26.0 in /opt/conda/lib/python3.11/site-packages (from kserve==0.12.0->cogflow==1.9.39b8) (0.26.0)\n",
      "Requirement already satisfied: orjson<4.0.0,>=3.8.0 in /opt/conda/lib/python3.11/site-packages (from kserve==0.12.0->cogflow==1.9.39b8) (3.10.1)\n",
      "Requirement already satisfied: prometheus-client<0.14.0,>=0.13.1 in /opt/conda/lib/python3.11/site-packages (from kserve==0.12.0->cogflow==1.9.39b8) (0.13.1)\n",
      "Requirement already satisfied: psutil<6.0.0,>=5.9.0 in /opt/conda/lib/python3.11/site-packages (from kserve==0.12.0->cogflow==1.9.39b8) (5.9.8)\n",
      "Requirement already satisfied: python-dateutil<3.0.0,>=2.8.0 in /opt/conda/lib/python3.11/site-packages (from kserve==0.12.0->cogflow==1.9.39b8) (2.8.2)\n",
      "Requirement already satisfied: six<2.0.0,>=1.16.0 in /opt/conda/lib/python3.11/site-packages (from kserve==0.12.0->cogflow==1.9.39b8) (1.16.0)\n",
      "Requirement already satisfied: timing-asgi<0.4.0,>=0.3.0 in /opt/conda/lib/python3.11/site-packages (from kserve==0.12.0->cogflow==1.9.39b8) (0.3.1)\n",
      "Requirement already satisfied: uvicorn<0.20.0,>=0.19.0 in /opt/conda/lib/python3.11/site-packages (from uvicorn[standard]<0.20.0,>=0.19.0->kserve==0.12.0->cogflow==1.9.39b8) (0.19.0)\n",
      "Collecting Flask<3 (from mlflow==2.1.1->cogflow==1.9.39b8)\n",
      "  Using cached flask-2.3.3-py3-none-any.whl.metadata (3.6 kB)\n",
      "Requirement already satisfied: alembic<2 in /opt/conda/lib/python3.11/site-packages (from mlflow==2.1.1->cogflow==1.9.39b8) (1.13.1)\n",
      "Collecting databricks-cli<1,>=0.8.7 (from mlflow==2.1.1->cogflow==1.9.39b8)\n",
      "  Using cached databricks_cli-0.18.0-py2.py3-none-any.whl.metadata (4.0 kB)\n",
      "Collecting docker<7,>=4.0.0 (from mlflow==2.1.1->cogflow==1.9.39b8)\n",
      "  Using cached docker-6.1.3-py3-none-any.whl.metadata (3.5 kB)\n",
      "Requirement already satisfied: entrypoints<1 in /opt/conda/lib/python3.11/site-packages (from mlflow==2.1.1->cogflow==1.9.39b8) (0.4)\n",
      "Requirement already satisfied: gitpython<4,>=2.1.0 in /opt/conda/lib/python3.11/site-packages (from mlflow==2.1.1->cogflow==1.9.39b8) (3.1.41)\n",
      "Collecting importlib-metadata!=4.7.0,<6,>=3.7.0 (from mlflow==2.1.1->cogflow==1.9.39b8)\n",
      "  Using cached importlib_metadata-5.2.0-py3-none-any.whl.metadata (5.0 kB)\n",
      "Requirement already satisfied: markdown<4,>=3.3 in /opt/conda/lib/python3.11/site-packages (from mlflow==2.1.1->cogflow==1.9.39b8) (3.6)\n",
      "Requirement already satisfied: matplotlib<4 in /opt/conda/lib/python3.11/site-packages (from mlflow==2.1.1->cogflow==1.9.39b8) (3.8.0)\n",
      "Collecting packaging<23 (from mlflow==2.1.1->cogflow==1.9.39b8)\n",
      "  Using cached packaging-22.0-py3-none-any.whl.metadata (3.1 kB)\n",
      "Collecting pandas (from cogflow==1.9.39b8)\n",
      "  Using cached pandas-1.5.3-cp311-cp311-manylinux_2_17_x86_64.manylinux2014_x86_64.whl.metadata (11 kB)\n",
      "Collecting pyarrow<11,>=4.0.0 (from mlflow==2.1.1->cogflow==1.9.39b8)\n",
      "  Using cached pyarrow-10.0.1-cp311-cp311-manylinux_2_17_x86_64.manylinux2014_x86_64.whl.metadata (3.0 kB)\n",
      "Collecting pytz<2023 (from mlflow==2.1.1->cogflow==1.9.39b8)\n",
      "  Using cached pytz-2022.7.1-py2.py3-none-any.whl.metadata (21 kB)\n",
      "Requirement already satisfied: querystring-parser<2 in /opt/conda/lib/python3.11/site-packages (from mlflow==2.1.1->cogflow==1.9.39b8) (1.2.4)\n",
      "Requirement already satisfied: requests<3,>=2.17.3 in /opt/conda/lib/python3.11/site-packages (from mlflow==2.1.1->cogflow==1.9.39b8) (2.31.0)\n",
      "Requirement already satisfied: scipy<2 in /opt/conda/lib/python3.11/site-packages (from mlflow==2.1.1->cogflow==1.9.39b8) (1.11.3)\n",
      "Collecting shap<1,>=0.40 (from mlflow==2.1.1->cogflow==1.9.39b8)\n",
      "  Using cached shap-0.46.0-cp311-cp311-manylinux_2_12_x86_64.manylinux2010_x86_64.manylinux_2_17_x86_64.manylinux2014_x86_64.whl.metadata (24 kB)\n",
      "Collecting sqlalchemy<2,>=1.4.0 (from mlflow==2.1.1->cogflow==1.9.39b8)\n",
      "  Using cached SQLAlchemy-1.4.54-cp311-cp311-manylinux_2_5_x86_64.manylinux1_x86_64.manylinux_2_17_x86_64.manylinux2014_x86_64.whl.metadata (10 kB)\n",
      "Requirement already satisfied: sqlparse<1,>=0.4.0 in /opt/conda/lib/python3.11/site-packages (from mlflow==2.1.1->cogflow==1.9.39b8) (0.5.0)\n",
      "Requirement already satisfied: Jinja2<4,>=2.11 in /opt/conda/lib/python3.11/site-packages (from mlflow==2.1.1->cogflow==1.9.39b8) (3.1.3)\n",
      "Collecting gunicorn<21 (from mlflow==2.1.1->cogflow==1.9.39b8)\n",
      "  Using cached gunicorn-20.1.0-py3-none-any.whl.metadata (3.8 kB)\n",
      "Requirement already satisfied: filelock in /opt/conda/lib/python3.11/site-packages (from ray==2.9.3->cogflow==1.9.39b8) (3.13.1)\n",
      "Requirement already satisfied: msgpack<2.0.0,>=1.0.0 in /opt/conda/lib/python3.11/site-packages (from ray==2.9.3->cogflow==1.9.39b8) (1.0.8)\n",
      "Requirement already satisfied: aiosignal in /opt/conda/lib/python3.11/site-packages (from ray==2.9.3->cogflow==1.9.39b8) (1.3.1)\n",
      "Requirement already satisfied: frozenlist in /opt/conda/lib/python3.11/site-packages (from ray==2.9.3->cogflow==1.9.39b8) (1.4.1)\n",
      "Requirement already satisfied: joblib>=1.1.1 in /opt/conda/lib/python3.11/site-packages (from scikit-learn==1.2.0->cogflow==1.9.39b8) (1.3.2)\n",
      "Requirement already satisfied: threadpoolctl>=2.0.0 in /opt/conda/lib/python3.11/site-packages (from scikit-learn==1.2.0->cogflow==1.9.39b8) (3.2.0)\n",
      "Requirement already satisfied: certifi>=14.05.14 in /opt/conda/lib/python3.11/site-packages (from kubernetes->cogflow==1.9.39b8) (2023.11.17)\n",
      "Requirement already satisfied: websocket-client!=0.40.0,!=0.41.*,!=0.42.*,>=0.32.0 in /opt/conda/lib/python3.11/site-packages (from kubernetes->cogflow==1.9.39b8) (1.7.0)\n",
      "Requirement already satisfied: requests-oauthlib in /opt/conda/lib/python3.11/site-packages (from kubernetes->cogflow==1.9.39b8) (1.3.1)\n",
      "Requirement already satisfied: botocore==1.34.73 in /opt/conda/lib/python3.11/site-packages (from awscli->cogflow==1.9.39b8) (1.34.73)\n",
      "Requirement already satisfied: docutils<0.17,>=0.10 in /opt/conda/lib/python3.11/site-packages (from awscli->cogflow==1.9.39b8) (0.16)\n",
      "Requirement already satisfied: s3transfer<0.11.0,>=0.10.0 in /opt/conda/lib/python3.11/site-packages (from awscli->cogflow==1.9.39b8) (0.10.1)\n",
      "Requirement already satisfied: colorama<0.4.5,>=0.2.5 in /opt/conda/lib/python3.11/site-packages (from awscli->cogflow==1.9.39b8) (0.4.4)\n",
      "Requirement already satisfied: rsa<4.8,>=3.1.2 in /opt/conda/lib/python3.11/site-packages (from awscli->cogflow==1.9.39b8) (4.7.2)\n",
      "Requirement already satisfied: jmespath<2.0.0,>=0.7.1 in /opt/conda/lib/python3.11/site-packages (from botocore==1.34.73->awscli->cogflow==1.9.39b8) (1.0.1)\n",
      "Requirement already satisfied: argon2-cffi in /opt/conda/lib/python3.11/site-packages (from minio->cogflow==1.9.39b8) (23.1.0)\n",
      "Requirement already satisfied: pycryptodome in /opt/conda/lib/python3.11/site-packages (from minio->cogflow==1.9.39b8) (3.20.0)\n",
      "Requirement already satisfied: typing-extensions in /opt/conda/lib/python3.11/site-packages (from minio->cogflow==1.9.39b8) (4.9.0)\n",
      "Requirement already satisfied: fsspec>=0.6.0 in /opt/conda/lib/python3.11/site-packages (from s3fs->cogflow==1.9.39b8) (2023.12.2)\n",
      "Requirement already satisfied: astunparse>=1.6.0 in /opt/conda/lib/python3.11/site-packages (from tensorflow->cogflow==1.9.39b8) (1.6.3)\n",
      "Requirement already satisfied: flatbuffers>=23.5.26 in /opt/conda/lib/python3.11/site-packages (from tensorflow->cogflow==1.9.39b8) (24.3.25)\n",
      "Requirement already satisfied: gast!=0.5.0,!=0.5.1,!=0.5.2,>=0.2.1 in /opt/conda/lib/python3.11/site-packages (from tensorflow->cogflow==1.9.39b8) (0.5.4)\n",
      "Requirement already satisfied: google-pasta>=0.1.1 in /opt/conda/lib/python3.11/site-packages (from tensorflow->cogflow==1.9.39b8) (0.2.0)\n",
      "Requirement already satisfied: h5py>=3.10.0 in /opt/conda/lib/python3.11/site-packages (from tensorflow->cogflow==1.9.39b8) (3.11.0)\n",
      "Requirement already satisfied: libclang>=13.0.0 in /opt/conda/lib/python3.11/site-packages (from tensorflow->cogflow==1.9.39b8) (18.1.1)\n",
      "Requirement already satisfied: ml-dtypes~=0.3.1 in /opt/conda/lib/python3.11/site-packages (from tensorflow->cogflow==1.9.39b8) (0.3.2)\n",
      "Requirement already satisfied: opt-einsum>=2.3.2 in /opt/conda/lib/python3.11/site-packages (from tensorflow->cogflow==1.9.39b8) (3.3.0)\n",
      "Requirement already satisfied: termcolor>=1.1.0 in /opt/conda/lib/python3.11/site-packages (from tensorflow->cogflow==1.9.39b8) (2.4.0)\n",
      "Requirement already satisfied: wrapt>=1.11.0 in /opt/conda/lib/python3.11/site-packages (from tensorflow->cogflow==1.9.39b8) (1.16.0)\n",
      "Requirement already satisfied: tensorboard<2.17,>=2.16 in /opt/conda/lib/python3.11/site-packages (from tensorflow->cogflow==1.9.39b8) (2.16.2)\n",
      "Requirement already satisfied: keras>=3.0.0 in /opt/conda/lib/python3.11/site-packages (from tensorflow->cogflow==1.9.39b8) (3.3.3)\n",
      "Requirement already satisfied: tensorflow-io-gcs-filesystem>=0.23.1 in /opt/conda/lib/python3.11/site-packages (from tensorflow->cogflow==1.9.39b8) (0.36.0)\n",
      "Requirement already satisfied: Mako in /opt/conda/lib/python3.11/site-packages (from alembic<2->mlflow==2.1.1->cogflow==1.9.39b8) (1.3.3)\n",
      "Requirement already satisfied: wheel<1.0,>=0.23.0 in /opt/conda/lib/python3.11/site-packages (from astunparse>=1.6.0->tensorflow->cogflow==1.9.39b8) (0.42.0)\n",
      "Requirement already satisfied: deprecation<3.0,>=2.0 in /opt/conda/lib/python3.11/site-packages (from cloudevents<2.0.0,>=1.6.2->kserve==0.12.0->cogflow==1.9.39b8) (2.1.0)\n",
      "Collecting pyjwt>=1.7.0 (from databricks-cli<1,>=0.8.7->mlflow==2.1.1->cogflow==1.9.39b8)\n",
      "  Using cached PyJWT-2.9.0-py3-none-any.whl.metadata (3.0 kB)\n",
      "Requirement already satisfied: oauthlib>=3.1.0 in /opt/conda/lib/python3.11/site-packages (from databricks-cli<1,>=0.8.7->mlflow==2.1.1->cogflow==1.9.39b8) (3.2.2)\n",
      "Requirement already satisfied: starlette<0.28.0,>=0.27.0 in /opt/conda/lib/python3.11/site-packages (from fastapi<0.96.0,>=0.95.0->kserve==0.12.0->cogflow==1.9.39b8) (0.27.0)\n",
      "Requirement already satisfied: Werkzeug>=2.3.7 in /opt/conda/lib/python3.11/site-packages (from Flask<3->mlflow==2.1.1->cogflow==1.9.39b8) (3.0.2)\n",
      "Requirement already satisfied: itsdangerous>=2.1.2 in /opt/conda/lib/python3.11/site-packages (from Flask<3->mlflow==2.1.1->cogflow==1.9.39b8) (2.2.0)\n",
      "Requirement already satisfied: blinker>=1.6.2 in /opt/conda/lib/python3.11/site-packages (from Flask<3->mlflow==2.1.1->cogflow==1.9.39b8) (1.8.1)\n",
      "Requirement already satisfied: gitdb<5,>=4.0.1 in /opt/conda/lib/python3.11/site-packages (from gitpython<4,>=2.1.0->mlflow==2.1.1->cogflow==1.9.39b8) (4.0.11)\n",
      "Requirement already satisfied: googleapis-common-protos<2.0.dev0,>=1.56.2 in /opt/conda/lib/python3.11/site-packages (from google-api-core!=2.0.*,!=2.1.*,!=2.2.*,!=2.3.0,<3.0.0dev,>=1.31.5->kfp==1.8.22->cogflow==1.9.39b8) (1.62.0)\n",
      "Requirement already satisfied: httplib2<1dev,>=0.15.0 in /opt/conda/lib/python3.11/site-packages (from google-api-python-client<2,>=1.7.8->kfp==1.8.22->cogflow==1.9.39b8) (0.22.0)\n",
      "Requirement already satisfied: google-auth-httplib2>=0.0.3 in /opt/conda/lib/python3.11/site-packages (from google-api-python-client<2,>=1.7.8->kfp==1.8.22->cogflow==1.9.39b8) (0.2.0)\n",
      "Requirement already satisfied: cachetools<6.0,>=2.0.0 in /opt/conda/lib/python3.11/site-packages (from google-auth<3,>=1.6.1->kfp==1.8.22->cogflow==1.9.39b8) (5.3.2)\n",
      "Requirement already satisfied: pyasn1-modules>=0.2.1 in /opt/conda/lib/python3.11/site-packages (from google-auth<3,>=1.6.1->kfp==1.8.22->cogflow==1.9.39b8) (0.3.0)\n",
      "Requirement already satisfied: google-cloud-core<3.0dev,>=2.3.0 in /opt/conda/lib/python3.11/site-packages (from google-cloud-storage<3,>=1.20.0->kfp==1.8.22->cogflow==1.9.39b8) (2.4.1)\n",
      "Requirement already satisfied: google-resumable-media>=2.6.0 in /opt/conda/lib/python3.11/site-packages (from google-cloud-storage<3,>=1.20.0->kfp==1.8.22->cogflow==1.9.39b8) (2.7.0)\n",
      "Requirement already satisfied: google-crc32c<2.0dev,>=1.0 in /opt/conda/lib/python3.11/site-packages (from google-cloud-storage<3,>=1.20.0->kfp==1.8.22->cogflow==1.9.39b8) (1.5.0)\n",
      "Requirement already satisfied: anyio in /opt/conda/lib/python3.11/site-packages (from httpx<0.27.0,>=0.26.0->kserve==0.12.0->cogflow==1.9.39b8) (4.2.0)\n",
      "Requirement already satisfied: httpcore==1.* in /opt/conda/lib/python3.11/site-packages (from httpx<0.27.0,>=0.26.0->kserve==0.12.0->cogflow==1.9.39b8) (1.0.5)\n",
      "Requirement already satisfied: idna in /opt/conda/lib/python3.11/site-packages (from httpx<0.27.0,>=0.26.0->kserve==0.12.0->cogflow==1.9.39b8) (3.6)\n",
      "Requirement already satisfied: sniffio in /opt/conda/lib/python3.11/site-packages (from httpx<0.27.0,>=0.26.0->kserve==0.12.0->cogflow==1.9.39b8) (1.3.0)\n",
      "Requirement already satisfied: h11<0.15,>=0.13 in /opt/conda/lib/python3.11/site-packages (from httpcore==1.*->httpx<0.27.0,>=0.26.0->kserve==0.12.0->cogflow==1.9.39b8) (0.14.0)\n",
      "Requirement already satisfied: zipp>=0.5 in /opt/conda/lib/python3.11/site-packages (from importlib-metadata!=4.7.0,<6,>=3.7.0->mlflow==2.1.1->cogflow==1.9.39b8) (3.17.0)\n",
      "Requirement already satisfied: MarkupSafe>=2.0 in /opt/conda/lib/python3.11/site-packages (from Jinja2<4,>=2.11->mlflow==2.1.1->cogflow==1.9.39b8) (2.1.4)\n",
      "Requirement already satisfied: attrs>=22.2.0 in /opt/conda/lib/python3.11/site-packages (from jsonschema<5,>=3.0.1->kfp==1.8.22->cogflow==1.9.39b8) (23.2.0)\n",
      "Requirement already satisfied: jsonschema-specifications>=2023.03.6 in /opt/conda/lib/python3.11/site-packages (from jsonschema<5,>=3.0.1->kfp==1.8.22->cogflow==1.9.39b8) (2023.12.1)\n",
      "Requirement already satisfied: referencing>=0.28.4 in /opt/conda/lib/python3.11/site-packages (from jsonschema<5,>=3.0.1->kfp==1.8.22->cogflow==1.9.39b8) (0.32.1)\n",
      "Requirement already satisfied: rpds-py>=0.7.1 in /opt/conda/lib/python3.11/site-packages (from jsonschema<5,>=3.0.1->kfp==1.8.22->cogflow==1.9.39b8) (0.17.1)\n",
      "Requirement already satisfied: rich in /opt/conda/lib/python3.11/site-packages (from keras>=3.0.0->tensorflow->cogflow==1.9.39b8) (13.7.1)\n",
      "Requirement already satisfied: namex in /opt/conda/lib/python3.11/site-packages (from keras>=3.0.0->tensorflow->cogflow==1.9.39b8) (0.0.8)\n",
      "Requirement already satisfied: optree in /opt/conda/lib/python3.11/site-packages (from keras>=3.0.0->tensorflow->cogflow==1.9.39b8) (0.11.0)\n",
      "Requirement already satisfied: contourpy>=1.0.1 in /opt/conda/lib/python3.11/site-packages (from matplotlib<4->mlflow==2.1.1->cogflow==1.9.39b8) (1.2.0)\n",
      "Requirement already satisfied: cycler>=0.10 in /opt/conda/lib/python3.11/site-packages (from matplotlib<4->mlflow==2.1.1->cogflow==1.9.39b8) (0.12.1)\n",
      "Requirement already satisfied: fonttools>=4.22.0 in /opt/conda/lib/python3.11/site-packages (from matplotlib<4->mlflow==2.1.1->cogflow==1.9.39b8) (4.47.2)\n",
      "Requirement already satisfied: kiwisolver>=1.0.1 in /opt/conda/lib/python3.11/site-packages (from matplotlib<4->mlflow==2.1.1->cogflow==1.9.39b8) (1.4.5)\n",
      "Requirement already satisfied: pillow>=6.2.0 in /opt/conda/lib/python3.11/site-packages (from matplotlib<4->mlflow==2.1.1->cogflow==1.9.39b8) (10.2.0)\n",
      "Requirement already satisfied: pyparsing>=2.3.1 in /opt/conda/lib/python3.11/site-packages (from matplotlib<4->mlflow==2.1.1->cogflow==1.9.39b8) (3.1.1)\n",
      "Requirement already satisfied: aiorwlock in /opt/conda/lib/python3.11/site-packages (from ray[serve]<3.0.0,>=2.9.2->kserve==0.12.0->cogflow==1.9.39b8) (1.4.0)\n",
      "Requirement already satisfied: virtualenv!=20.21.1,>=20.0.24 in /opt/conda/lib/python3.11/site-packages (from ray[serve]<3.0.0,>=2.9.2->kserve==0.12.0->cogflow==1.9.39b8) (20.26.1)\n",
      "Requirement already satisfied: aiohttp>=3.7 in /opt/conda/lib/python3.11/site-packages (from ray[serve]<3.0.0,>=2.9.2->kserve==0.12.0->cogflow==1.9.39b8) (3.9.5)\n",
      "Requirement already satisfied: opencensus in /opt/conda/lib/python3.11/site-packages (from ray[serve]<3.0.0,>=2.9.2->kserve==0.12.0->cogflow==1.9.39b8) (0.11.4)\n",
      "Requirement already satisfied: colorful in /opt/conda/lib/python3.11/site-packages (from ray[serve]<3.0.0,>=2.9.2->kserve==0.12.0->cogflow==1.9.39b8) (0.5.6)\n",
      "Requirement already satisfied: smart-open in /opt/conda/lib/python3.11/site-packages (from ray[serve]<3.0.0,>=2.9.2->kserve==0.12.0->cogflow==1.9.39b8) (7.0.4)\n",
      "Requirement already satisfied: py-spy>=0.2.0 in /opt/conda/lib/python3.11/site-packages (from ray[serve]<3.0.0,>=2.9.2->kserve==0.12.0->cogflow==1.9.39b8) (0.3.14)\n",
      "Requirement already satisfied: watchfiles in /opt/conda/lib/python3.11/site-packages (from ray[serve]<3.0.0,>=2.9.2->kserve==0.12.0->cogflow==1.9.39b8) (0.21.0)\n",
      "Requirement already satisfied: aiohttp-cors in /opt/conda/lib/python3.11/site-packages (from ray[serve]<3.0.0,>=2.9.2->kserve==0.12.0->cogflow==1.9.39b8) (0.7.0)\n",
      "Requirement already satisfied: gpustat>=1.0.0 in /opt/conda/lib/python3.11/site-packages (from ray[serve]<3.0.0,>=2.9.2->kserve==0.12.0->cogflow==1.9.39b8) (1.1.1)\n",
      "Requirement already satisfied: charset-normalizer<4,>=2 in /opt/conda/lib/python3.11/site-packages (from requests<3,>=2.17.3->mlflow==2.1.1->cogflow==1.9.39b8) (3.3.2)\n",
      "Requirement already satisfied: pyasn1>=0.1.3 in /opt/conda/lib/python3.11/site-packages (from rsa<4.8,>=3.1.2->awscli->cogflow==1.9.39b8) (0.5.1)\n",
      "Requirement already satisfied: tqdm>=4.27.0 in /opt/conda/lib/python3.11/site-packages (from shap<1,>=0.40->mlflow==2.1.1->cogflow==1.9.39b8) (4.66.1)\n",
      "Collecting slicer==0.0.8 (from shap<1,>=0.40->mlflow==2.1.1->cogflow==1.9.39b8)\n",
      "  Using cached slicer-0.0.8-py3-none-any.whl.metadata (4.0 kB)\n",
      "Collecting numba (from shap<1,>=0.40->mlflow==2.1.1->cogflow==1.9.39b8)\n",
      "  Using cached numba-0.60.0-cp311-cp311-manylinux2014_x86_64.manylinux_2_17_x86_64.whl.metadata (2.7 kB)\n",
      "Requirement already satisfied: greenlet!=0.4.17 in /opt/conda/lib/python3.11/site-packages (from sqlalchemy<2,>=1.4.0->mlflow==2.1.1->cogflow==1.9.39b8) (3.0.3)\n",
      "Requirement already satisfied: tensorboard-data-server<0.8.0,>=0.7.0 in /opt/conda/lib/python3.11/site-packages (from tensorboard<2.17,>=2.16->tensorflow->cogflow==1.9.39b8) (0.7.2)\n",
      "Requirement already satisfied: shellingham>=1.3.0 in /opt/conda/lib/python3.11/site-packages (from typer<1.0,>=0.3.2->kfp==1.8.22->cogflow==1.9.39b8) (1.5.4)\n",
      "Requirement already satisfied: httptools>=0.5.0 in /opt/conda/lib/python3.11/site-packages (from uvicorn[standard]<0.20.0,>=0.19.0->kserve==0.12.0->cogflow==1.9.39b8) (0.6.1)\n",
      "Requirement already satisfied: python-dotenv>=0.13 in /opt/conda/lib/python3.11/site-packages (from uvicorn[standard]<0.20.0,>=0.19.0->kserve==0.12.0->cogflow==1.9.39b8) (1.0.1)\n",
      "Requirement already satisfied: uvloop!=0.15.0,!=0.15.1,>=0.14.0 in /opt/conda/lib/python3.11/site-packages (from uvicorn[standard]<0.20.0,>=0.19.0->kserve==0.12.0->cogflow==1.9.39b8) (0.19.0)\n",
      "Requirement already satisfied: websockets>=10.0 in /opt/conda/lib/python3.11/site-packages (from uvicorn[standard]<0.20.0,>=0.19.0->kserve==0.12.0->cogflow==1.9.39b8) (12.0)\n",
      "Requirement already satisfied: argon2-cffi-bindings in /opt/conda/lib/python3.11/site-packages (from argon2-cffi->minio->cogflow==1.9.39b8) (21.2.0)\n",
      "Requirement already satisfied: multidict<7.0,>=4.5 in /opt/conda/lib/python3.11/site-packages (from aiohttp>=3.7->ray[serve]<3.0.0,>=2.9.2->kserve==0.12.0->cogflow==1.9.39b8) (6.0.5)\n",
      "Requirement already satisfied: yarl<2.0,>=1.0 in /opt/conda/lib/python3.11/site-packages (from aiohttp>=3.7->ray[serve]<3.0.0,>=2.9.2->kserve==0.12.0->cogflow==1.9.39b8) (1.9.4)\n",
      "Requirement already satisfied: smmap<6,>=3.0.1 in /opt/conda/lib/python3.11/site-packages (from gitdb<5,>=4.0.1->gitpython<4,>=2.1.0->mlflow==2.1.1->cogflow==1.9.39b8) (5.0.1)\n",
      "Requirement already satisfied: nvidia-ml-py>=11.450.129 in /opt/conda/lib/python3.11/site-packages (from gpustat>=1.0.0->ray[serve]<3.0.0,>=2.9.2->kserve==0.12.0->cogflow==1.9.39b8) (12.550.52)\n",
      "Requirement already satisfied: blessed>=1.17.1 in /opt/conda/lib/python3.11/site-packages (from gpustat>=1.0.0->ray[serve]<3.0.0,>=2.9.2->kserve==0.12.0->cogflow==1.9.39b8) (1.20.0)\n",
      "Requirement already satisfied: markdown-it-py>=2.2.0 in /opt/conda/lib/python3.11/site-packages (from rich->keras>=3.0.0->tensorflow->cogflow==1.9.39b8) (3.0.0)\n",
      "Requirement already satisfied: pygments<3.0.0,>=2.13.0 in /opt/conda/lib/python3.11/site-packages (from rich->keras>=3.0.0->tensorflow->cogflow==1.9.39b8) (2.17.2)\n",
      "Requirement already satisfied: distlib<1,>=0.3.7 in /opt/conda/lib/python3.11/site-packages (from virtualenv!=20.21.1,>=20.0.24->ray[serve]<3.0.0,>=2.9.2->kserve==0.12.0->cogflow==1.9.39b8) (0.3.8)\n",
      "Requirement already satisfied: platformdirs<5,>=3.9.1 in /opt/conda/lib/python3.11/site-packages (from virtualenv!=20.21.1,>=20.0.24->ray[serve]<3.0.0,>=2.9.2->kserve==0.12.0->cogflow==1.9.39b8) (4.1.0)\n",
      "Requirement already satisfied: cffi>=1.0.1 in /opt/conda/lib/python3.11/site-packages (from argon2-cffi-bindings->argon2-cffi->minio->cogflow==1.9.39b8) (1.16.0)\n",
      "Collecting llvmlite<0.44,>=0.43.0dev0 (from numba->shap<1,>=0.40->mlflow==2.1.1->cogflow==1.9.39b8)\n",
      "  Using cached llvmlite-0.43.0-cp311-cp311-manylinux_2_17_x86_64.manylinux2014_x86_64.whl.metadata (4.8 kB)\n",
      "Requirement already satisfied: opencensus-context>=0.1.3 in /opt/conda/lib/python3.11/site-packages (from opencensus->ray[serve]<3.0.0,>=2.9.2->kserve==0.12.0->cogflow==1.9.39b8) (0.1.3)\n",
      "Requirement already satisfied: wcwidth>=0.1.4 in /opt/conda/lib/python3.11/site-packages (from blessed>=1.17.1->gpustat>=1.0.0->ray[serve]<3.0.0,>=2.9.2->kserve==0.12.0->cogflow==1.9.39b8) (0.2.13)\n",
      "Requirement already satisfied: pycparser in /opt/conda/lib/python3.11/site-packages (from cffi>=1.0.1->argon2-cffi-bindings->argon2-cffi->minio->cogflow==1.9.39b8) (2.21)\n",
      "Requirement already satisfied: mdurl~=0.1 in /opt/conda/lib/python3.11/site-packages (from markdown-it-py>=2.2.0->rich->keras>=3.0.0->tensorflow->cogflow==1.9.39b8) (0.1.2)\n",
      "Using cached mlflow-2.1.1-py3-none-any.whl (16.7 MB)\n",
      "Using cached numpy-1.24.4-cp311-cp311-manylinux_2_17_x86_64.manylinux2014_x86_64.whl (17.3 MB)\n",
      "Using cached scikit_learn-1.2.0-cp311-cp311-manylinux_2_17_x86_64.manylinux2014_x86_64.whl (9.5 MB)\n",
      "Using cached pandas-1.5.3-cp311-cp311-manylinux_2_17_x86_64.manylinux2014_x86_64.whl (12.0 MB)\n",
      "Using cached databricks_cli-0.18.0-py2.py3-none-any.whl (150 kB)\n",
      "Using cached docker-6.1.3-py3-none-any.whl (148 kB)\n",
      "Using cached flask-2.3.3-py3-none-any.whl (96 kB)\n",
      "Using cached gunicorn-20.1.0-py3-none-any.whl (79 kB)\n",
      "Using cached importlib_metadata-5.2.0-py3-none-any.whl (21 kB)\n",
      "Using cached packaging-22.0-py3-none-any.whl (42 kB)\n",
      "Using cached pyarrow-10.0.1-cp311-cp311-manylinux_2_17_x86_64.manylinux2014_x86_64.whl (35.8 MB)\n",
      "Using cached pytz-2022.7.1-py2.py3-none-any.whl (499 kB)\n",
      "Using cached shap-0.46.0-cp311-cp311-manylinux_2_12_x86_64.manylinux2010_x86_64.manylinux_2_17_x86_64.manylinux2014_x86_64.whl (540 kB)\n",
      "Using cached slicer-0.0.8-py3-none-any.whl (15 kB)\n",
      "Using cached SQLAlchemy-1.4.54-cp311-cp311-manylinux_2_5_x86_64.manylinux1_x86_64.manylinux_2_17_x86_64.manylinux2014_x86_64.whl (1.6 MB)\n",
      "Using cached PyJWT-2.9.0-py3-none-any.whl (22 kB)\n",
      "Using cached numba-0.60.0-cp311-cp311-manylinux2014_x86_64.manylinux_2_17_x86_64.whl (3.7 MB)\n",
      "Using cached llvmlite-0.43.0-cp311-cp311-manylinux_2_17_x86_64.manylinux2014_x86_64.whl (43.9 MB)\n",
      "Installing collected packages: pytz, sqlalchemy, slicer, pyjwt, packaging, numpy, llvmlite, importlib-metadata, gunicorn, pyarrow, pandas, numba, Flask, docker, databricks-cli, scikit-learn, shap, mlflow, cogflow\n",
      "  Attempting uninstall: pytz\n",
      "    Found existing installation: pytz 2023.3.post1\n",
      "    Uninstalling pytz-2023.3.post1:\n",
      "      Successfully uninstalled pytz-2023.3.post1\n",
      "  Attempting uninstall: sqlalchemy\n",
      "    Found existing installation: SQLAlchemy 2.0.29\n",
      "    Uninstalling SQLAlchemy-2.0.29:\n",
      "      Successfully uninstalled SQLAlchemy-2.0.29\n",
      "  Attempting uninstall: packaging\n",
      "    Found existing installation: packaging 23.2\n",
      "    Uninstalling packaging-23.2:\n",
      "      Successfully uninstalled packaging-23.2\n",
      "  Attempting uninstall: numpy\n",
      "    Found existing installation: numpy 1.24.3\n",
      "    Uninstalling numpy-1.24.3:\n",
      "      Successfully uninstalled numpy-1.24.3\n",
      "  Attempting uninstall: importlib-metadata\n",
      "    Found existing installation: importlib-metadata 7.0.1\n",
      "    Uninstalling importlib-metadata-7.0.1:\n",
      "      Successfully uninstalled importlib-metadata-7.0.1\n",
      "  Attempting uninstall: gunicorn\n",
      "    Found existing installation: gunicorn 21.2.0\n",
      "    Uninstalling gunicorn-21.2.0:\n",
      "      Successfully uninstalled gunicorn-21.2.0\n",
      "  Attempting uninstall: pyarrow\n",
      "    Found existing installation: pyarrow 15.0.2\n",
      "    Uninstalling pyarrow-15.0.2:\n",
      "      Successfully uninstalled pyarrow-15.0.2\n",
      "  Attempting uninstall: pandas\n",
      "    Found existing installation: pandas 2.0.3\n",
      "    Uninstalling pandas-2.0.3:\n",
      "      Successfully uninstalled pandas-2.0.3\n",
      "  Attempting uninstall: Flask\n",
      "    Found existing installation: Flask 3.0.3\n",
      "    Uninstalling Flask-3.0.3:\n",
      "      Successfully uninstalled Flask-3.0.3\n",
      "  Attempting uninstall: docker\n",
      "    Found existing installation: docker 7.0.0\n",
      "    Uninstalling docker-7.0.0:\n",
      "      Successfully uninstalled docker-7.0.0\n",
      "  Attempting uninstall: scikit-learn\n",
      "    Found existing installation: scikit-learn 1.3.2\n",
      "    Uninstalling scikit-learn-1.3.2:\n",
      "      Successfully uninstalled scikit-learn-1.3.2\n",
      "  Attempting uninstall: mlflow\n",
      "    Found existing installation: mlflow 2.10.2\n",
      "    Uninstalling mlflow-2.10.2:\n",
      "      Successfully uninstalled mlflow-2.10.2\n",
      "  Attempting uninstall: cogflow\n",
      "    Found existing installation: cogflow 1.9.2\n",
      "    Uninstalling cogflow-1.9.2:\n",
      "      Successfully uninstalled cogflow-1.9.2\n",
      "Successfully installed Flask-2.3.3 cogflow-1.9.39b8 databricks-cli-0.18.0 docker-6.1.3 gunicorn-20.1.0 importlib-metadata-5.2.0 llvmlite-0.43.0 mlflow-2.1.1 numba-0.60.0 numpy-1.24.4 packaging-22.0 pandas-1.5.3 pyarrow-10.0.1 pyjwt-2.9.0 pytz-2022.7.1 scikit-learn-1.2.0 shap-0.46.0 slicer-0.0.8 sqlalchemy-1.4.54\n",
      "Note: you may need to restart the kernel to use updated packages.\n"
     ]
    }
   ],
   "source": [
    "pip install cogflow-1.9.39b8-py3-none-any.whl"
   ]
  },
  {
   "cell_type": "code",
   "execution_count": 2,
   "id": "696e34d3-3d08-4bdc-b4c2-4b822be32563",
   "metadata": {
    "tags": []
   },
   "outputs": [
    {
     "name": "stdout",
     "output_type": "stream",
     "text": [
      "Name: cogflow\n",
      "Version: 1.9.39b8\n",
      "Summary: COG modules\n",
      "Home-page: \n",
      "Author: Sai_kireeti\n",
      "Author-email: sai.kireeti@hiro-microdatacenters.nl\n",
      "License: \n",
      "Location: /opt/conda/lib/python3.11/site-packages\n",
      "Requires: awscli, boto3, kfp, kserve, kubernetes, minio, mlflow, numpy, pandas, ray, s3fs, scikit-learn, setuptools, tenacity, tensorflow\n",
      "Required-by: \n"
     ]
    }
   ],
   "source": [
    "!pip show cogflow"
   ]
  },
  {
   "cell_type": "code",
   "execution_count": 15,
   "id": "9621c82b-a673-4768-b7a0-4394a72fa088",
   "metadata": {
    "tags": []
   },
   "outputs": [],
   "source": [
    "import cogflow as cf\n",
    "web_downloader_op=cf.load_component(url='https://raw.githubusercontent.com/Ark-kun/pipeline_components/master/components/web/Download/component.yaml')"
   ]
  },
  {
   "cell_type": "code",
   "execution_count": 16,
   "id": "53b16dff-753c-4516-a16a-50086d793af6",
   "metadata": {
    "tags": []
   },
   "outputs": [
    {
     "name": "stdout",
     "output_type": "stream",
     "text": [
      "<function create_function_from_parameters.<locals>.pass_locals at 0x7e379791a520>\n"
     ]
    }
   ],
   "source": [
    "print(web_downloader_op)"
   ]
  },
  {
   "cell_type": "code",
   "execution_count": 17,
   "id": "431c3492-d9d0-4788-a044-bb86e5003d9f",
   "metadata": {
    "tags": []
   },
   "outputs": [],
   "source": [
    "from cogflow import InputPath, OutputPath\n",
    "def preprocess(file_path: InputPath('CSV'),\n",
    "              output_file: OutputPath('parquet')):\n",
    "    import pandas as pd\n",
    "    df = pd.read_csv(file_path, header=0, sep=\";\")\n",
    "    df.columns = [c.lower().replace(' ', '_') for c in df.columns]\n",
    "    df.to_parquet(output_file)"
   ]
  },
  {
   "cell_type": "code",
   "execution_count": 18,
   "id": "29a3077e-bd06-47fb-ac9b-7568115aec34",
   "metadata": {
    "tags": []
   },
   "outputs": [],
   "source": [
    "preprocess_op=cf.create_component_from_func(\n",
    "        func=preprocess,\n",
    "        output_component_file='preprocess-component.yaml')"
   ]
  },
  {
   "cell_type": "code",
   "execution_count": 19,
   "id": "e98732da-f2a4-4ad7-bc5a-ddbdda735cbe",
   "metadata": {
    "tags": []
   },
   "outputs": [],
   "source": [
    "def training(file_path: InputPath('parquet'))->str:\n",
    "    \n",
    "    import pandas as pd\n",
    "    from sklearn.model_selection import train_test_split\n",
    "    from sklearn.metrics import classification_report\n",
    "    from sklearn.linear_model import ElasticNet\n",
    "    import os\n",
    "    from datetime import datetime\n",
    "    import numpy as np\n",
    "    import cogflow as cf\n",
    "    import json\n",
    "     \n",
    "    df = pd.read_parquet(file_path)\n",
    "    \n",
    "    cf.autolog()\n",
    "    \n",
    "    target_column='quality'\n",
    "    train_x, test_x, train_y, test_y = train_test_split(df.drop(columns=[target_column]),\n",
    "                                                    df[target_column], test_size=.25,\n",
    "                                                    random_state=1337, stratify=df[target_column])  \n",
    "\n",
    "    with cf.start_run() as run:\n",
    "        alpha =  0.5\n",
    "        l1_ratio =  0.5\n",
    "        lr = ElasticNet(alpha=alpha, l1_ratio=l1_ratio, random_state=42)\n",
    "        lr.fit(train_x, train_y)\n",
    "        cf.log_param(\"alpha\",alpha)\n",
    "        cf.log_param(\"l1_ratio\",l1_ratio)\n",
    "        \n",
    "        \n",
    "        model_name = \"wine-elasticnet\"\n",
    "        run_id = run.info.run_id\n",
    "        result = cf.log_model(lr, \"model\", registered_model_name= \"wine-elasticnet\")\n",
    "\n",
    "        print(f\"Artifact_uri\", run.info.artifact_uri)\n",
    "        print(f\"Artifact_path\", run.info.artifact_uri)\n",
    "        return f\"{run.info.artifact_uri}/{result.artifact_path}\"\n",
    "        "
   ]
  },
  {
   "cell_type": "code",
   "execution_count": 20,
   "id": "d9898e58-9540-4ca3-9ec8-97580b681376",
   "metadata": {
    "tags": []
   },
   "outputs": [],
   "source": [
    "training_op=cf.create_component_from_func(\n",
    "        func=training,\n",
    "        output_component_file='train-component.yaml')"
   ]
  },
  {
   "cell_type": "code",
   "execution_count": 21,
   "id": "3865534b-d086-4f90-9f67-1403e871ed97",
   "metadata": {
    "tags": []
   },
   "outputs": [],
   "source": [
    "def serving(model_uri,name):\n",
    "    import cogflow as cf\n",
    "    cf.serve_model_v1(model_uri,name)\n",
    "    "
   ]
  },
  {
   "cell_type": "code",
   "execution_count": 22,
   "id": "d23a06c9-53da-4f02-a3ca-c6361bcac5fc",
   "metadata": {
    "tags": []
   },
   "outputs": [],
   "source": [
    "kserve_op=cf.create_component_from_func(func=serving,\n",
    "        output_component_file='kserve-component.yaml')"
   ]
  },
  {
   "cell_type": "code",
   "execution_count": 23,
   "id": "b83ad207-66d9-420a-9492-1f3583b67c25",
   "metadata": {
    "tags": []
   },
   "outputs": [],
   "source": [
    "def getmodel(name):\n",
    "    import cogflow as cf\n",
    "    cf.get_model_url(name)\n",
    "    "
   ]
  },
  {
   "cell_type": "code",
   "execution_count": 24,
   "id": "b5423919-5250-445a-b074-a9d2835d5d12",
   "metadata": {
    "tags": []
   },
   "outputs": [],
   "source": [
    "getmodel_op=cf.create_component_from_func(func=getmodel,\n",
    "        output_component_file='kserve-component.yaml')\n"
   ]
  },
  {
   "cell_type": "code",
   "execution_count": 25,
   "id": "2b0ef2e4-0c9a-4ed9-a3af-dd5100d4ca04",
   "metadata": {
    "tags": []
   },
   "outputs": [],
   "source": [
    "@cf.pipeline(name=\"pipeline\", description=\"WINE pipeline\")\n",
    "def wine_pipeline(url,isvc):\n",
    "    # Download dataset\n",
    "    web_downloader_task = web_downloader_op(url=url)\n",
    "    \n",
    "    # Adjust dataset for training\n",
    "    preprocess_task = preprocess_op(file=web_downloader_task.outputs['data'])\n",
    "    \n",
    "    # Training\n",
    "    train_task = (training_op(file=preprocess_task.outputs['output']));\n",
    "    \n",
    "    # Serving the model\n",
    "    kserve_task=kserve_op(model_uri=train_task.output,name=isvc)\n",
    "    #kserve_task=kserve_task.AddModelAccess()\n",
    "    kserve_task.after(train_task)\n",
    "    \n",
    "    # Describe model\n",
    "    getmodel_task=getmodel_op(isvc)\n",
    "    getmodel_task.after(kserve_task)\n",
    "    \n",
    "    # Infer model\n",
    "    #API request internally in this cluster"
   ]
  },
  {
   "cell_type": "code",
   "execution_count": 26,
   "id": "ace84afd-91cf-44fd-a322-9076e1f468c7",
   "metadata": {
    "tags": []
   },
   "outputs": [
    {
     "data": {
      "text/html": [
       "<a href=\"/pipeline/#/experiments/details/36c6bded-68a6-45c7-a642-d5378e23b3ea\" target=\"_blank\" >Experiment details</a>."
      ],
      "text/plain": [
       "<IPython.core.display.HTML object>"
      ]
     },
     "metadata": {},
     "output_type": "display_data"
    },
    {
     "data": {
      "text/html": [
       "<a href=\"/pipeline/#/runs/details/ba82a539-f7c4-4cc7-bc23-03ec3f0c709f\" target=\"_blank\" >Run details</a>."
      ],
      "text/plain": [
       "<IPython.core.display.HTML object>"
      ]
     },
     "metadata": {},
     "output_type": "display_data"
    },
    {
     "data": {
      "text/plain": [
       "RunPipelineResult(run_id=ba82a539-f7c4-4cc7-bc23-03ec3f0c709f)"
      ]
     },
     "execution_count": 26,
     "metadata": {},
     "output_type": "execute_result"
    }
   ],
   "source": [
    "client = cf.client()\n",
    "client.create_run_from_pipeline_func(\n",
    "    wine_pipeline,\n",
    "    arguments={\n",
    "        \"url\": \"https://raw.githubusercontent.com/Barteus/kubeflow-examples/main/e2e-wine-kfp-mlflow/winequality-red.csv\",\n",
    "    \"isvc\":\"sample-final-bola-verge332\"}\n",
    ")\n"
   ]
  },
  {
   "cell_type": "code",
   "execution_count": null,
   "id": "27cac264-aeef-4740-8ff8-b8e4d3abe190",
   "metadata": {},
   "outputs": [],
   "source": [
    "# Important to delete served models for resources\n",
    "import cogflow as cf\n",
    "cf.delete_served_model(\"sample-final-bola-verge332\")"
   ]
  },
  {
   "cell_type": "code",
   "execution_count": 26,
   "id": "9cbb1f0e-a715-446e-9746-aab2c62ca1ca",
   "metadata": {},
   "outputs": [
    {
     "name": "stdout",
     "output_type": "stream",
     "text": [
      "POST request successful\n",
      "{'status_code': 201, 'message': 'Created new model.', 'data': {'name': 'FanzD7VJHc', 'version': '1', 'type': 'sklearn', 'description': 'FanzD7VJHc model', 'id': 9, 'last_modified_time': '2024-10-11T15:00:02.125188', 'register_date': '2024-10-11T15:00:02.125181'}, 'pagination': None}\n"
     ]
    }
   ],
   "source": [
    "\n",
    "import cogflow\n",
    "res = cogflow.save_model_details_to_db(registered_model_name=\"FanzD7VJHc\")\n",
    "print(res)\n"
   ]
  },
  {
   "cell_type": "code",
   "execution_count": 28,
   "id": "1251bfac-29cd-4955-9ad1-66e7785af1b4",
   "metadata": {},
   "outputs": [
    {
     "name": "stdout",
     "output_type": "stream",
     "text": [
      "9\n"
     ]
    }
   ],
   "source": [
    "model_id = res[\"data\"][\"id\"]\n",
    "print(model_id)"
   ]
  },
  {
   "cell_type": "code",
   "execution_count": 33,
   "id": "3cfe00d5-5d6b-4e4d-baba-eed144f018f0",
   "metadata": {
    "tags": []
   },
   "outputs": [
    {
     "name": "stdout",
     "output_type": "stream",
     "text": [
      "s3://mlflow/0/8e26c211a995496299c9b2a210103aea/artifacts/TD3_HalfCheetah-v2_0\n"
     ]
    }
   ],
   "source": [
    "\n",
    "\n",
    "artifact_uri=cogflow.get_artifact_uri(artifact_path=\"TD3_HalfCheetah-v2_0\")\n",
    "print(artifact_uri)"
   ]
  },
  {
   "cell_type": "code",
   "execution_count": 32,
   "id": "5a9f3e6d-a995-46f7-a193-190a83cf8559",
   "metadata": {
    "tags": []
   },
   "outputs": [
    {
     "name": "stdout",
     "output_type": "stream",
     "text": [
      "POST request failed with status code 422\n"
     ]
    },
    {
     "ename": "Exception",
     "evalue": "Request failed",
     "output_type": "error",
     "traceback": [
      "\u001b[0;31m---------------------------------------------------------------------------\u001b[0m",
      "\u001b[0;31mException\u001b[0m                                 Traceback (most recent call last)",
      "Cell \u001b[0;32mIn[32], line 1\u001b[0m\n\u001b[0;32m----> 1\u001b[0m \u001b[43mcogflow\u001b[49m\u001b[38;5;241;43m.\u001b[39;49m\u001b[43msave_model_uri_to_db\u001b[49m\u001b[43m(\u001b[49m\u001b[43mmodel_id\u001b[49m\u001b[38;5;241;43m=\u001b[39;49m\u001b[38;5;124;43m\"\u001b[39;49m\u001b[38;5;124;43m9\u001b[39;49m\u001b[38;5;124;43m\"\u001b[39;49m\u001b[43m,\u001b[49m\u001b[43m \u001b[49m\u001b[43mmodel_uri\u001b[49m\u001b[38;5;241;43m=\u001b[39;49m\u001b[43martifact_uri\u001b[49m\u001b[43m)\u001b[49m\n",
      "File \u001b[0;32m/opt/conda/lib/python3.11/site-packages/cogflow/__init__.py:782\u001b[0m, in \u001b[0;36msave_model_uri_to_db\u001b[0;34m(model_id, model_uri)\u001b[0m\n\u001b[1;32m    774\u001b[0m \u001b[38;5;28;01mdef\u001b[39;00m \u001b[38;5;21msave_model_uri_to_db\u001b[39m(model_id, model_uri):\n\u001b[1;32m    775\u001b[0m \u001b[38;5;250m    \u001b[39m\u001b[38;5;124;03m\"\"\"\u001b[39;00m\n\u001b[1;32m    776\u001b[0m \u001b[38;5;124;03m    Save the model URI to the database.\u001b[39;00m\n\u001b[1;32m    777\u001b[0m \n\u001b[0;32m   (...)\u001b[0m\n\u001b[1;32m    780\u001b[0m \u001b[38;5;124;03m    :return: Response from the database save operation.\u001b[39;00m\n\u001b[1;32m    781\u001b[0m \u001b[38;5;124;03m    \"\"\"\u001b[39;00m\n\u001b[0;32m--> 782\u001b[0m     \u001b[38;5;28;01mreturn\u001b[39;00m \u001b[43mNotebookPlugin\u001b[49m\u001b[43m(\u001b[49m\u001b[43m)\u001b[49m\u001b[38;5;241;43m.\u001b[39;49m\u001b[43msave_model_uri_to_db\u001b[49m\u001b[43m(\u001b[49m\u001b[43mmodel_id\u001b[49m\u001b[38;5;241;43m=\u001b[39;49m\u001b[43mmodel_id\u001b[49m\u001b[43m,\u001b[49m\u001b[43m \u001b[49m\u001b[43mmodel_uri\u001b[49m\u001b[38;5;241;43m=\u001b[39;49m\u001b[43mmodel_uri\u001b[49m\u001b[43m)\u001b[49m\n",
      "File \u001b[0;32m/opt/conda/lib/python3.11/site-packages/cogflow/plugins/notebook_plugin.py:143\u001b[0m, in \u001b[0;36mNotebookPlugin.save_model_uri_to_db\u001b[0;34m(model_id, model_uri)\u001b[0m\n\u001b[1;32m    134\u001b[0m data \u001b[38;5;241m=\u001b[39m {\n\u001b[1;32m    135\u001b[0m     \u001b[38;5;124m\"\u001b[39m\u001b[38;5;124muser_id\u001b[39m\u001b[38;5;124m\"\u001b[39m: plugin_config\u001b[38;5;241m.\u001b[39mJUPYTER_USER_ID,\n\u001b[1;32m    136\u001b[0m     \u001b[38;5;124m\"\u001b[39m\u001b[38;5;124mmodel_id\u001b[39m\u001b[38;5;124m\"\u001b[39m: model_id,\n\u001b[1;32m    137\u001b[0m     \u001b[38;5;124m\"\u001b[39m\u001b[38;5;124muri\u001b[39m\u001b[38;5;124m\"\u001b[39m: model_uri,\n\u001b[1;32m    138\u001b[0m     \u001b[38;5;124m\"\u001b[39m\u001b[38;5;124mdescription\u001b[39m\u001b[38;5;124m\"\u001b[39m: \u001b[38;5;124mf\u001b[39m\u001b[38;5;124m\"\u001b[39m\u001b[38;5;124mmodel uri of model id :\u001b[39m\u001b[38;5;132;01m{\u001b[39;00mmodel_id\u001b[38;5;132;01m}\u001b[39;00m\u001b[38;5;124m\"\u001b[39m,\n\u001b[1;32m    139\u001b[0m }\n\u001b[1;32m    140\u001b[0m url \u001b[38;5;241m=\u001b[39m os\u001b[38;5;241m.\u001b[39mgetenv(plugin_config\u001b[38;5;241m.\u001b[39mAPI_BASEPATH) \u001b[38;5;241m+\u001b[39m PluginManager()\u001b[38;5;241m.\u001b[39mload_path(\n\u001b[1;32m    141\u001b[0m     \u001b[38;5;124m\"\u001b[39m\u001b[38;5;124mmodels_uri\u001b[39m\u001b[38;5;124m\"\u001b[39m\n\u001b[1;32m    142\u001b[0m )\n\u001b[0;32m--> 143\u001b[0m \u001b[38;5;28;01mreturn\u001b[39;00m \u001b[43mmake_post_request\u001b[49m\u001b[43m(\u001b[49m\u001b[43murl\u001b[49m\u001b[43m,\u001b[49m\u001b[43m \u001b[49m\u001b[43mdata\u001b[49m\u001b[38;5;241;43m=\u001b[39;49m\u001b[43mdata\u001b[49m\u001b[43m)\u001b[49m\n",
      "File \u001b[0;32m/opt/conda/lib/python3.11/site-packages/cogflow/util.py:40\u001b[0m, in \u001b[0;36mmake_post_request\u001b[0;34m(url, data, params, files, timeout)\u001b[0m\n\u001b[1;32m     38\u001b[0m     \u001b[38;5;66;03m# If not the success response\u001b[39;00m\n\u001b[1;32m     39\u001b[0m     \u001b[38;5;28mprint\u001b[39m(\u001b[38;5;124mf\u001b[39m\u001b[38;5;124m\"\u001b[39m\u001b[38;5;124mPOST request failed with status code \u001b[39m\u001b[38;5;132;01m{\u001b[39;00mresponse\u001b[38;5;241m.\u001b[39mstatus_code\u001b[38;5;132;01m}\u001b[39;00m\u001b[38;5;124m\"\u001b[39m)\n\u001b[0;32m---> 40\u001b[0m     \u001b[38;5;28;01mraise\u001b[39;00m \u001b[38;5;167;01mException\u001b[39;00m(\u001b[38;5;124m\"\u001b[39m\u001b[38;5;124mRequest failed\u001b[39m\u001b[38;5;124m\"\u001b[39m)\n\u001b[1;32m     41\u001b[0m \u001b[38;5;28;01mexcept\u001b[39;00m requests\u001b[38;5;241m.\u001b[39mexceptions\u001b[38;5;241m.\u001b[39mRequestException \u001b[38;5;28;01mas\u001b[39;00m exp:\n\u001b[1;32m     42\u001b[0m     \u001b[38;5;28mprint\u001b[39m(\u001b[38;5;124mf\u001b[39m\u001b[38;5;124m\"\u001b[39m\u001b[38;5;124mError making POST request: \u001b[39m\u001b[38;5;132;01m{\u001b[39;00mexp\u001b[38;5;132;01m}\u001b[39;00m\u001b[38;5;124m\"\u001b[39m)\n",
      "\u001b[0;31mException\u001b[0m: Request failed"
     ]
    }
   ],
   "source": [
    "cogflow.save_model_uri_to_db(model_id=\"9\", model_uri=artifact_uri)"
   ]
  },
  {
   "cell_type": "code",
   "execution_count": null,
   "id": "5253016e-7128-417c-bab9-28896e2da4fd",
   "metadata": {},
   "outputs": [],
   "source": []
  }
 ],
 "metadata": {
  "kernelspec": {
   "display_name": "Python 3 (ipykernel)",
   "language": "python",
   "name": "python3"
  },
  "language_info": {
   "codemirror_mode": {
    "name": "ipython",
    "version": 3
   },
   "file_extension": ".py",
   "mimetype": "text/x-python",
   "name": "python",
   "nbconvert_exporter": "python",
   "pygments_lexer": "ipython3",
   "version": "3.11.6"
  }
 },
 "nbformat": 4,
 "nbformat_minor": 5
}
